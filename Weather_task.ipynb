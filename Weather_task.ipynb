{
  "cells": [
    {
      "cell_type": "markdown",
      "metadata": {
        "id": "view-in-github",
        "colab_type": "text"
      },
      "source": [
        "<a href=\"https://colab.research.google.com/github/kate-431/MGprogramming_task/blob/main/Mantelgroup.ipynb\" target=\"_parent\"><img src=\"https://colab.research.google.com/assets/colab-badge.svg\" alt=\"Open In Colab\"/></a>"
      ]
    },
    {
      "cell_type": "code",
      "execution_count": 1,
      "metadata": {
        "id": "LeTMD0nzFcIx"
      },
      "outputs": [],
      "source": [
        "import numpy as np\n",
        "import pandas as pd\n",
        "import json \n",
        "from google.colab import drive\n",
        "from google.colab import files\n",
        "import glob\n",
        "import os\n",
        "from collections import Counter"
      ]
    },
    {
      "cell_type": "code",
      "execution_count": 2,
      "metadata": {
        "colab": {
          "base_uri": "https://localhost:8080/"
        },
        "id": "ewoqaE73YN9e",
        "outputId": "e18bae8d-e132-42b2-a71f-e0b7f05bc2ca"
      },
      "outputs": [
        {
          "output_type": "stream",
          "name": "stdout",
          "text": [
            "Mounted at /content/drive\n"
          ]
        }
      ],
      "source": [
        "drive.mount('/content/drive')"
      ]
    },
    {
      "cell_type": "code",
      "execution_count": 3,
      "metadata": {
        "colab": {
          "base_uri": "https://localhost:8080/"
        },
        "id": "y51STnAqYUw4",
        "outputId": "6020a4b3-1bff-4a33-86ed-a039964fc974"
      },
      "outputs": [
        {
          "output_type": "stream",
          "name": "stdout",
          "text": [
            "Archive:  drive/My Drive/Interview/drive-download-20220810T054936Z-001.zip\n",
            "  inflating: 5.json                  \n",
            "  inflating: 2.json                  \n",
            "  inflating: 4.json                  \n",
            "  inflating: 0.json                  \n",
            "  inflating: 3.json                  \n",
            "  inflating: 6.json                  \n",
            "  inflating: 1.json                  \n"
          ]
        }
      ],
      "source": [
        "!unzip drive/My\\ Drive/Interview/drive-download-20220810T054936Z-001.zip"
      ]
    },
    {
      "cell_type": "code",
      "execution_count": 4,
      "metadata": {
        "id": "9oRQCMCkiBV0"
      },
      "outputs": [],
      "source": [
        "#Create one dataset from all json files\n",
        "temp = pd.DataFrame()\n",
        "\n",
        "path_to_json = '/content/' \n",
        "\n",
        "json_pattern = os.path.join(path_to_json,'*.json')\n",
        "file_list = glob.glob(json_pattern)\n",
        "\n",
        "dfs = []\n",
        "for file in file_list:\n",
        "    with open(file) as f:\n",
        "        json_data = pd.json_normalize(json.loads(f.read()))\n",
        "    dfs.append(json_data)\n",
        "df = pd.concat(dfs, sort=False)"
      ]
    },
    {
      "cell_type": "code",
      "execution_count": 5,
      "metadata": {
        "colab": {
          "base_uri": "https://localhost:8080/",
          "height": 305
        },
        "id": "n0aihOjVMsIh",
        "outputId": "d45d056a-2212-44de-daed-db5d190c8288"
      },
      "outputs": [
        {
          "output_type": "execute_result",
          "data": {
            "text/plain": [
              "    LocalObservationDateTime   EpochTime      WeatherText  WeatherIcon  \\\n",
              "0  2022-08-04T11:25:00+09:30  1659578100   MOStlY CloUdy             6   \n",
              "1  2022-08-04T10:25:00+09:30  1659574500    paRtLY SUNNY             3   \n",
              "2  2022-08-04T09:25:00+09:30  1659570900           SunNy             1   \n",
              "3  2022-08-04T08:25:00+09:30  1659567300           SUNnY             1   \n",
              "4  2022-08-04T07:25:00+09:30  1659563700           suNny             1   \n",
              "\n",
              "   HasPrecipitation PrecipitationType  IsDayTime      city  \\\n",
              "0             False              None       True   darwIN    \n",
              "1             False              None       True   dArWin    \n",
              "2             False              None       True   dARwiN    \n",
              "3             False              None       True   daRwIn    \n",
              "4             False              None       True   DARwin    \n",
              "\n",
              "   Temperature.Metric.Value Temperature.Metric.Unit  \\\n",
              "0                      26.1                       C   \n",
              "1                      26.4                       C   \n",
              "2                      25.2                       C   \n",
              "3                      24.8                       C   \n",
              "4                      24.2                       C   \n",
              "\n",
              "   Temperature.Metric.UnitType  Temperature.Imperial.Value  \\\n",
              "0                           17                        79.0   \n",
              "1                           17                        80.0   \n",
              "2                           17                        77.0   \n",
              "3                           17                        77.0   \n",
              "4                           17                        76.0   \n",
              "\n",
              "  Temperature.Imperial.Unit  Temperature.Imperial.UnitType  \n",
              "0                         F                             18  \n",
              "1                         F                             18  \n",
              "2                         F                             18  \n",
              "3                         F                             18  \n",
              "4                         F                             18  "
            ],
            "text/html": [
              "\n",
              "  <div id=\"df-48250b07-4991-46b7-a8d5-e2bae660f121\">\n",
              "    <div class=\"colab-df-container\">\n",
              "      <div>\n",
              "<style scoped>\n",
              "    .dataframe tbody tr th:only-of-type {\n",
              "        vertical-align: middle;\n",
              "    }\n",
              "\n",
              "    .dataframe tbody tr th {\n",
              "        vertical-align: top;\n",
              "    }\n",
              "\n",
              "    .dataframe thead th {\n",
              "        text-align: right;\n",
              "    }\n",
              "</style>\n",
              "<table border=\"1\" class=\"dataframe\">\n",
              "  <thead>\n",
              "    <tr style=\"text-align: right;\">\n",
              "      <th></th>\n",
              "      <th>LocalObservationDateTime</th>\n",
              "      <th>EpochTime</th>\n",
              "      <th>WeatherText</th>\n",
              "      <th>WeatherIcon</th>\n",
              "      <th>HasPrecipitation</th>\n",
              "      <th>PrecipitationType</th>\n",
              "      <th>IsDayTime</th>\n",
              "      <th>city</th>\n",
              "      <th>Temperature.Metric.Value</th>\n",
              "      <th>Temperature.Metric.Unit</th>\n",
              "      <th>Temperature.Metric.UnitType</th>\n",
              "      <th>Temperature.Imperial.Value</th>\n",
              "      <th>Temperature.Imperial.Unit</th>\n",
              "      <th>Temperature.Imperial.UnitType</th>\n",
              "    </tr>\n",
              "  </thead>\n",
              "  <tbody>\n",
              "    <tr>\n",
              "      <th>0</th>\n",
              "      <td>2022-08-04T11:25:00+09:30</td>\n",
              "      <td>1659578100</td>\n",
              "      <td>MOStlY CloUdy</td>\n",
              "      <td>6</td>\n",
              "      <td>False</td>\n",
              "      <td>None</td>\n",
              "      <td>True</td>\n",
              "      <td>darwIN</td>\n",
              "      <td>26.1</td>\n",
              "      <td>C</td>\n",
              "      <td>17</td>\n",
              "      <td>79.0</td>\n",
              "      <td>F</td>\n",
              "      <td>18</td>\n",
              "    </tr>\n",
              "    <tr>\n",
              "      <th>1</th>\n",
              "      <td>2022-08-04T10:25:00+09:30</td>\n",
              "      <td>1659574500</td>\n",
              "      <td>paRtLY SUNNY</td>\n",
              "      <td>3</td>\n",
              "      <td>False</td>\n",
              "      <td>None</td>\n",
              "      <td>True</td>\n",
              "      <td>dArWin</td>\n",
              "      <td>26.4</td>\n",
              "      <td>C</td>\n",
              "      <td>17</td>\n",
              "      <td>80.0</td>\n",
              "      <td>F</td>\n",
              "      <td>18</td>\n",
              "    </tr>\n",
              "    <tr>\n",
              "      <th>2</th>\n",
              "      <td>2022-08-04T09:25:00+09:30</td>\n",
              "      <td>1659570900</td>\n",
              "      <td>SunNy</td>\n",
              "      <td>1</td>\n",
              "      <td>False</td>\n",
              "      <td>None</td>\n",
              "      <td>True</td>\n",
              "      <td>dARwiN</td>\n",
              "      <td>25.2</td>\n",
              "      <td>C</td>\n",
              "      <td>17</td>\n",
              "      <td>77.0</td>\n",
              "      <td>F</td>\n",
              "      <td>18</td>\n",
              "    </tr>\n",
              "    <tr>\n",
              "      <th>3</th>\n",
              "      <td>2022-08-04T08:25:00+09:30</td>\n",
              "      <td>1659567300</td>\n",
              "      <td>SUNnY</td>\n",
              "      <td>1</td>\n",
              "      <td>False</td>\n",
              "      <td>None</td>\n",
              "      <td>True</td>\n",
              "      <td>daRwIn</td>\n",
              "      <td>24.8</td>\n",
              "      <td>C</td>\n",
              "      <td>17</td>\n",
              "      <td>77.0</td>\n",
              "      <td>F</td>\n",
              "      <td>18</td>\n",
              "    </tr>\n",
              "    <tr>\n",
              "      <th>4</th>\n",
              "      <td>2022-08-04T07:25:00+09:30</td>\n",
              "      <td>1659563700</td>\n",
              "      <td>suNny</td>\n",
              "      <td>1</td>\n",
              "      <td>False</td>\n",
              "      <td>None</td>\n",
              "      <td>True</td>\n",
              "      <td>DARwin</td>\n",
              "      <td>24.2</td>\n",
              "      <td>C</td>\n",
              "      <td>17</td>\n",
              "      <td>76.0</td>\n",
              "      <td>F</td>\n",
              "      <td>18</td>\n",
              "    </tr>\n",
              "  </tbody>\n",
              "</table>\n",
              "</div>\n",
              "      <button class=\"colab-df-convert\" onclick=\"convertToInteractive('df-48250b07-4991-46b7-a8d5-e2bae660f121')\"\n",
              "              title=\"Convert this dataframe to an interactive table.\"\n",
              "              style=\"display:none;\">\n",
              "        \n",
              "  <svg xmlns=\"http://www.w3.org/2000/svg\" height=\"24px\"viewBox=\"0 0 24 24\"\n",
              "       width=\"24px\">\n",
              "    <path d=\"M0 0h24v24H0V0z\" fill=\"none\"/>\n",
              "    <path d=\"M18.56 5.44l.94 2.06.94-2.06 2.06-.94-2.06-.94-.94-2.06-.94 2.06-2.06.94zm-11 1L8.5 8.5l.94-2.06 2.06-.94-2.06-.94L8.5 2.5l-.94 2.06-2.06.94zm10 10l.94 2.06.94-2.06 2.06-.94-2.06-.94-.94-2.06-.94 2.06-2.06.94z\"/><path d=\"M17.41 7.96l-1.37-1.37c-.4-.4-.92-.59-1.43-.59-.52 0-1.04.2-1.43.59L10.3 9.45l-7.72 7.72c-.78.78-.78 2.05 0 2.83L4 21.41c.39.39.9.59 1.41.59.51 0 1.02-.2 1.41-.59l7.78-7.78 2.81-2.81c.8-.78.8-2.07 0-2.86zM5.41 20L4 18.59l7.72-7.72 1.47 1.35L5.41 20z\"/>\n",
              "  </svg>\n",
              "      </button>\n",
              "      \n",
              "  <style>\n",
              "    .colab-df-container {\n",
              "      display:flex;\n",
              "      flex-wrap:wrap;\n",
              "      gap: 12px;\n",
              "    }\n",
              "\n",
              "    .colab-df-convert {\n",
              "      background-color: #E8F0FE;\n",
              "      border: none;\n",
              "      border-radius: 50%;\n",
              "      cursor: pointer;\n",
              "      display: none;\n",
              "      fill: #1967D2;\n",
              "      height: 32px;\n",
              "      padding: 0 0 0 0;\n",
              "      width: 32px;\n",
              "    }\n",
              "\n",
              "    .colab-df-convert:hover {\n",
              "      background-color: #E2EBFA;\n",
              "      box-shadow: 0px 1px 2px rgba(60, 64, 67, 0.3), 0px 1px 3px 1px rgba(60, 64, 67, 0.15);\n",
              "      fill: #174EA6;\n",
              "    }\n",
              "\n",
              "    [theme=dark] .colab-df-convert {\n",
              "      background-color: #3B4455;\n",
              "      fill: #D2E3FC;\n",
              "    }\n",
              "\n",
              "    [theme=dark] .colab-df-convert:hover {\n",
              "      background-color: #434B5C;\n",
              "      box-shadow: 0px 1px 3px 1px rgba(0, 0, 0, 0.15);\n",
              "      filter: drop-shadow(0px 1px 2px rgba(0, 0, 0, 0.3));\n",
              "      fill: #FFFFFF;\n",
              "    }\n",
              "  </style>\n",
              "\n",
              "      <script>\n",
              "        const buttonEl =\n",
              "          document.querySelector('#df-48250b07-4991-46b7-a8d5-e2bae660f121 button.colab-df-convert');\n",
              "        buttonEl.style.display =\n",
              "          google.colab.kernel.accessAllowed ? 'block' : 'none';\n",
              "\n",
              "        async function convertToInteractive(key) {\n",
              "          const element = document.querySelector('#df-48250b07-4991-46b7-a8d5-e2bae660f121');\n",
              "          const dataTable =\n",
              "            await google.colab.kernel.invokeFunction('convertToInteractive',\n",
              "                                                     [key], {});\n",
              "          if (!dataTable) return;\n",
              "\n",
              "          const docLinkHtml = 'Like what you see? Visit the ' +\n",
              "            '<a target=\"_blank\" href=https://colab.research.google.com/notebooks/data_table.ipynb>data table notebook</a>'\n",
              "            + ' to learn more about interactive tables.';\n",
              "          element.innerHTML = '';\n",
              "          dataTable['output_type'] = 'display_data';\n",
              "          await google.colab.output.renderOutput(dataTable, element);\n",
              "          const docLink = document.createElement('div');\n",
              "          docLink.innerHTML = docLinkHtml;\n",
              "          element.appendChild(docLink);\n",
              "        }\n",
              "      </script>\n",
              "    </div>\n",
              "  </div>\n",
              "  "
            ]
          },
          "metadata": {},
          "execution_count": 5
        }
      ],
      "source": [
        "df.head()"
      ]
    },
    {
      "cell_type": "code",
      "execution_count": 6,
      "metadata": {
        "id": "eOgCXHUtEqio"
      },
      "outputs": [],
      "source": [
        "#Check data for NA or null values in the temperature value columns and replace with mean if value is missing.\n",
        "def clean_data(df):\n",
        "   for i in df[\"Temperature.Metric.Value\"]:\n",
        "    if pd.isna(i):\n",
        "     df = df.fillna(df[\"Temperature.Metric.Value\",\"Temperature.Imperial.Value\"].mean())\n",
        "     print(\"NA and Null values replaced with mean value for Temperature.Metric.Value/Temperature.Imperial.Value variables\")\n",
        "   else: \n",
        "       print(\"No NA or Null values present.\")\n",
        "   print(\"\")\n",
        "#Make all strings lower case in dataset\n",
        "   df= df.applymap(lambda s:s.lower() if type(s) == str else s) \n",
        "\n",
        "   return df\n"
      ]
    },
    {
      "cell_type": "code",
      "execution_count": 7,
      "metadata": {
        "colab": {
          "base_uri": "https://localhost:8080/"
        },
        "id": "dDRmC-lQFW2y",
        "outputId": "00c32271-0580-4719-ecb4-2ab999d95e59"
      },
      "outputs": [
        {
          "output_type": "stream",
          "name": "stdout",
          "text": [
            "No NA or Null values present.\n",
            "\n"
          ]
        }
      ],
      "source": [
        "df =clean_data(df)"
      ]
    },
    {
      "cell_type": "code",
      "execution_count": 8,
      "metadata": {
        "id": "I2V6qyTyCc7P"
      },
      "outputs": [],
      "source": [
        "#Function to find Average temperature.\n",
        "def Average_temperature(df):\n",
        "  Avg_temp = df.groupby('city', sort=False).agg(Average_Celcius=('Temperature.Metric.Value','mean'),\n",
        "                                                Average_Fahrenheit=('Temperature.Imperial.Value','mean')).reset_index(drop=False)\n",
        "  return Avg_temp "
      ]
    },
    {
      "cell_type": "code",
      "execution_count": 9,
      "metadata": {
        "id": "uxcit6saS1ED"
      },
      "outputs": [],
      "source": [
        "#Function to calculate top 3 WeatherText by city. \n",
        "#Solution takes into account that some citys may not have 3 different elements for top 3 or may have a tie between elements.\n",
        "def get_nlargest(df, n, keep):\n",
        "    top_n = df.value_counts(normalize=True).nlargest(n, keep)\n",
        "    other = pd.Series({'other': 1 - top_n.sum()})\n",
        "    return pd.concat([top_n, other])\n",
        "\n",
        "def weather_nlargest(df, n, keep='all'):\n",
        "    df=df.groupby(['city'])['WeatherText'].apply(get_nlargest, n, keep).reset_index()\n",
        "    df.rename(columns = {'city':'City', 'level_1':'WeatherText', 'WeatherText':'WeatherType_%'}, inplace = True)\n",
        "    df[\"WeatherType_%\"] = round(df[\"WeatherType_%\"],2)\n",
        "    print(\"If there is a tie between WeatherText elements, the output will return more than 3 elements.\")\n",
        "    return df\n"
      ]
    },
    {
      "cell_type": "code",
      "source": [
        "Avg_temp = Average_temperature(df)\n",
        "Avg_temp.to_csv('Average_temp.csv', index=False) \n",
        "files.download('Average_temp.csv')\n",
        "print(\"Average temperature sucessfully downloaded as CSV.\")"
      ],
      "metadata": {
        "id": "dEn7gYYGPAp0",
        "outputId": "066c4851-efe6-4695-d53e-3e1fdfa811f4",
        "colab": {
          "base_uri": "https://localhost:8080/",
          "height": 34
        }
      },
      "execution_count": 10,
      "outputs": [
        {
          "output_type": "display_data",
          "data": {
            "text/plain": [
              "<IPython.core.display.Javascript object>"
            ],
            "application/javascript": [
              "\n",
              "    async function download(id, filename, size) {\n",
              "      if (!google.colab.kernel.accessAllowed) {\n",
              "        return;\n",
              "      }\n",
              "      const div = document.createElement('div');\n",
              "      const label = document.createElement('label');\n",
              "      label.textContent = `Downloading \"${filename}\": `;\n",
              "      div.appendChild(label);\n",
              "      const progress = document.createElement('progress');\n",
              "      progress.max = size;\n",
              "      div.appendChild(progress);\n",
              "      document.body.appendChild(div);\n",
              "\n",
              "      const buffers = [];\n",
              "      let downloaded = 0;\n",
              "\n",
              "      const channel = await google.colab.kernel.comms.open(id);\n",
              "      // Send a message to notify the kernel that we're ready.\n",
              "      channel.send({})\n",
              "\n",
              "      for await (const message of channel.messages) {\n",
              "        // Send a message to notify the kernel that we're ready.\n",
              "        channel.send({})\n",
              "        if (message.buffers) {\n",
              "          for (const buffer of message.buffers) {\n",
              "            buffers.push(buffer);\n",
              "            downloaded += buffer.byteLength;\n",
              "            progress.value = downloaded;\n",
              "          }\n",
              "        }\n",
              "      }\n",
              "      const blob = new Blob(buffers, {type: 'application/binary'});\n",
              "      const a = document.createElement('a');\n",
              "      a.href = window.URL.createObjectURL(blob);\n",
              "      a.download = filename;\n",
              "      div.appendChild(a);\n",
              "      a.click();\n",
              "      div.remove();\n",
              "    }\n",
              "  "
            ]
          },
          "metadata": {}
        },
        {
          "output_type": "display_data",
          "data": {
            "text/plain": [
              "<IPython.core.display.Javascript object>"
            ],
            "application/javascript": [
              "download(\"download_65fc1183-1632-4474-859e-2641f417546b\", \"Average_temp.csv\", 311)"
            ]
          },
          "metadata": {}
        },
        {
          "output_type": "stream",
          "name": "stdout",
          "text": [
            "Average temperature sucessfully downloaded as CSV.\n"
          ]
        }
      ]
    },
    {
      "cell_type": "code",
      "source": [
        "weather_text_top3 = weather_nlargest(df,n=3)\n",
        "\n",
        "weather_text_top3.to_csv('Weather_text_top3.csv', index=False) \n",
        "files.download('Weather_text_top3.csv')\n",
        "print(\"Top 3 WeatherType sucessfully downloaded as CSV.\")"
      ],
      "metadata": {
        "id": "R-Cl6bmXPXus",
        "outputId": "be2fccc0-2408-4a56-9bff-7107dbf35da0",
        "colab": {
          "base_uri": "https://localhost:8080/",
          "height": 52
        }
      },
      "execution_count": 11,
      "outputs": [
        {
          "output_type": "stream",
          "name": "stdout",
          "text": [
            "If there is a tie between WeatherText elements, the output will return more than 3 elements.\n"
          ]
        },
        {
          "output_type": "display_data",
          "data": {
            "text/plain": [
              "<IPython.core.display.Javascript object>"
            ],
            "application/javascript": [
              "\n",
              "    async function download(id, filename, size) {\n",
              "      if (!google.colab.kernel.accessAllowed) {\n",
              "        return;\n",
              "      }\n",
              "      const div = document.createElement('div');\n",
              "      const label = document.createElement('label');\n",
              "      label.textContent = `Downloading \"${filename}\": `;\n",
              "      div.appendChild(label);\n",
              "      const progress = document.createElement('progress');\n",
              "      progress.max = size;\n",
              "      div.appendChild(progress);\n",
              "      document.body.appendChild(div);\n",
              "\n",
              "      const buffers = [];\n",
              "      let downloaded = 0;\n",
              "\n",
              "      const channel = await google.colab.kernel.comms.open(id);\n",
              "      // Send a message to notify the kernel that we're ready.\n",
              "      channel.send({})\n",
              "\n",
              "      for await (const message of channel.messages) {\n",
              "        // Send a message to notify the kernel that we're ready.\n",
              "        channel.send({})\n",
              "        if (message.buffers) {\n",
              "          for (const buffer of message.buffers) {\n",
              "            buffers.push(buffer);\n",
              "            downloaded += buffer.byteLength;\n",
              "            progress.value = downloaded;\n",
              "          }\n",
              "        }\n",
              "      }\n",
              "      const blob = new Blob(buffers, {type: 'application/binary'});\n",
              "      const a = document.createElement('a');\n",
              "      a.href = window.URL.createObjectURL(blob);\n",
              "      a.download = filename;\n",
              "      div.appendChild(a);\n",
              "      a.click();\n",
              "      div.remove();\n",
              "    }\n",
              "  "
            ]
          },
          "metadata": {}
        },
        {
          "output_type": "display_data",
          "data": {
            "text/plain": [
              "<IPython.core.display.Javascript object>"
            ],
            "application/javascript": [
              "download(\"download_c1cd15e6-512b-4766-ac4e-21cd435cfc66\", \"Weather_text_top3.csv\", 865)"
            ]
          },
          "metadata": {}
        },
        {
          "output_type": "stream",
          "name": "stdout",
          "text": [
            "Top 3 WeatherType sucessfully downloaded as CSV.\n"
          ]
        }
      ]
    }
  ],
  "metadata": {
    "colab": {
      "name": "Mantelgroup.ipynb",
      "provenance": [],
      "authorship_tag": "ABX9TyMi4T9CVG+IghPGGtMywfNG",
      "include_colab_link": true
    },
    "kernelspec": {
      "display_name": "Python 3",
      "name": "python3"
    },
    "language_info": {
      "name": "python"
    }
  },
  "nbformat": 4,
  "nbformat_minor": 0
}
